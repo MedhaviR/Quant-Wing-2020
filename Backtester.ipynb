{
  "nbformat": 4,
  "nbformat_minor": 0,
  "metadata": {
    "colab": {
      "name": "Backtester",
      "provenance": []
    },
    "kernelspec": {
      "name": "python3",
      "display_name": "Python 3"
    }
  },
  "cells": [
    {
      "cell_type": "markdown",
      "metadata": {
        "id": "ZD3fL7RH4Lvo",
        "colab_type": "text"
      },
      "source": [
        "# Backtesting a MA Strategy"
      ]
    },
    {
      "cell_type": "code",
      "metadata": {
        "id": "phRIfXlU0Ynr",
        "colab_type": "code",
        "colab": {
          "base_uri": "https://localhost:8080/",
          "height": 67
        },
        "outputId": "efba66b3-7c2d-4d1f-c2f6-10a7d64348e0"
      },
      "source": [
        "import requests\n",
        "import pandas as pd\n",
        "import matplotlib.pyplot as plt\n",
        "import numpy as np"
      ],
      "execution_count": 1,
      "outputs": [
        {
          "output_type": "stream",
          "text": [
            "[0.0, -9.0, 4.999999999999993, 6.0]\n",
            "1.999999999999993 is the profit of Moving Averag Strategy\n",
            "23.0 is the profit of holding over the selected period of 1200 days\n"
          ],
          "name": "stdout"
        }
      ]
    },
    {
      "cell_type": "code",
      "metadata": {
        "id": "NZ-2mGeK1E3z",
        "colab_type": "code",
        "colab": {
          "base_uri": "https://localhost:8080/",
          "height": 87
        },
        "outputId": "d6f98e79-2273-443b-dd8a-a1dadadb184e"
      },
      "source": [
        "def stock_data(stock):\n",
        "    stock_data = requests.get(f\"https://financialmodelingprep.com/api/v3/historical-price-full/{stock}?serietype=line\")\n",
        "    stock_data = stock_data.json()\n",
        "\n",
        "    stock_data = stock_data['historical'][-1200:]                               #Getting stock data for last 1200 days\n",
        "\n",
        "\n",
        "    stock_data = pd.DataFrame.from_dict(stock_data)                             #Converting to dataframe\n",
        "    stock_data = stock_data.set_index('date')\n",
        "\n",
        "    stock_data['20days'] = stock_data['close'].rolling(20).mean()               #Calculating 20 day average\n",
        "    stock_data['250days'] = stock_data['close'].rolling(250).mean()             #Calculating 250 day average\n",
        "    \n",
        "\n",
        "    long_positions_profit = []\n",
        "\n",
        "    short_positions = []\n",
        "\n",
        "    stock_data['buy'] =(stock_data['20days'] > stock_data['250days'])           #Finding spots where 20 day Average crosses the 250 day one\n",
        "\n",
        "\n",
        "    stock_data['firstbuy'] =   ((stock_data['buy'] == True) & (stock_data['buy'].shift(2) == False)& (stock_data['buy'].shift(1) == True))\n",
        "\n",
        "\n",
        "    buyingpoints = np.where(stock_data['firstbuy'] == True)                     #We calculate our profits for the first point at which the crossover took place\n",
        "\n",
        "    for item in buyingpoints[0]:\n",
        "\n",
        "        close_price = stock_data.iloc[item].close\n",
        "\n",
        "        long = close_price*100                                                  #Here we purchase 100 stocks \n",
        "\n",
        "        sellday = item + 20\n",
        "\n",
        "        close_price = stock_data.iloc[sellday].close\n",
        "        \n",
        "        sell = close_price*100\n",
        "\n",
        "        profit = sell - long\n",
        "\n",
        "        long_positions_profit.append(profit)\n",
        "        \n",
        "    print(long_positions_profit )\n",
        "    print(str(sum(long_positions_profit)) + ' is the profit of Moving Average Strategy')\n",
        "\n",
        "    #We can now calculate and compare what our profit would have been, had we held the stock for 1200 days instead\n",
        "    firstdayprice = stockprices.iloc[0].close\n",
        "    lastdayprice = stockprices.iloc[-1].close\n",
        "\n",
        "    profit = 100*(lastdayprice - firstdayprice)\n",
        "    print(str(profit) + ' is the profit of holding over the selected period of 1200 days')\n",
        "\n",
        "\n",
        "#Change Unity Biotechnology for the ticker of any company you want to backtest\n",
        "stockpriceanalysis('UBX')"
      ],
      "execution_count": 8,
      "outputs": [
        {
          "output_type": "stream",
          "text": [
            "[2.0, 87983.0, 7.0, -67977.0, 115969.0, -7.0, 48371.0, 43987.0, -47987.0, -55986.0, -0.9999999999999982, 1.0, -4.0, 1.0, 0.0, -12.0, -2.999999999999999, 3994.0, 3.000000000000001, 0.0]\n",
            "128341.0 is the profit of Moving Averag Strategy\n",
            "6.0 is the profit of holding over the selected period of 1200 days\n"
          ],
          "name": "stdout"
        }
      ]
    }
  ]
}