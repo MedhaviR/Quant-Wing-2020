{
  "nbformat": 4,
  "nbformat_minor": 0,
  "metadata": {
    "colab": {
      "name": "Binomial Options Pricing Model",
      "provenance": []
    },
    "kernelspec": {
      "name": "python3",
      "display_name": "Python 3"
    }
  },
  "cells": [
    {
      "cell_type": "markdown",
      "metadata": {
        "id": "6jzEu2vop-2-",
        "colab_type": "text"
      },
      "source": [
        "#Binomial Options Pricing Model"
      ]
    },
    {
      "cell_type": "markdown",
      "metadata": {
        "id": "od5sM_mCqFsK",
        "colab_type": "text"
      },
      "source": [
        "A binomial options pricing model can be used to find prices of simple European call and put options, using simple stock movements. The model works by dividing the life of the option into some number of discrete intervals, and assuming that the stock price randomly moves either up or down by a fixed percentage over each short interval."
      ]
    },
    {
      "cell_type": "code",
      "metadata": {
        "id": "0HXQatWnkhND",
        "colab_type": "code",
        "colab": {}
      },
      "source": [
        "import math "
      ],
      "execution_count": 1,
      "outputs": []
    },
    {
      "cell_type": "markdown",
      "metadata": {
        "id": "Ra4TwnhCsZrH",
        "colab_type": "text"
      },
      "source": [
        "Key:\n",
        "\n",
        "*   S = Stock Price Today\n",
        "*   K = Strike Price of Option\n",
        "*   T = time until expriy of option\n",
        "*   r = risk-free interest rate\n",
        "*   u & d = factors by which stock prices at nodes increase or decrease\n",
        "*   N = no. of steps\n",
        "\n",
        "Since increasing the value of N, increases the no. of steps, and hence changes total amount we're allowing the stock price to move, since u & d remain independent parameters. We solve this by making them dependent on the values of delta T and a new term \"Volatility\" that we define."
      ]
    },
    {
      "cell_type": "code",
      "metadata": {
        "id": "q6eGjrUFsRfh",
        "colab_type": "code",
        "colab": {}
      },
      "source": [
        "def binomial_call(S, K, T, r, vol, N):\n",
        "  dt = T/N                                              #time interval\n",
        "  u =  math.exp(vol * math.sqrt(dt))\n",
        "  d = 1/u\n",
        "  p = (math.exp(r * dt) - d)/(u - d)                    #probabilty with which price moves up \n",
        "  C = {}\n",
        "  \n",
        "  for m in range(0, N+1):                               #finds the value of the option at the end of the tree, using the normal payoff of a call option\n",
        "    C[(N,m)] = max(S * (u ** (2 * m - N)) - K, 0)\n",
        "\n",
        "  for k in range(N-1, -1, -1):                          #works backward through the tree to iteratively fill in the value of the option at every node\n",
        "    for m in range(0, k+1):\n",
        "       C[(k, m)] = math.exp(-r * dt) * (p * C[(k+1, m+1)] + (1-p) * C[(k+1, m)])\n",
        "  \n",
        "  \n",
        "  return C[(0,0)]"
      ],
      "execution_count": 2,
      "outputs": []
    },
    {
      "cell_type": "code",
      "metadata": {
        "id": "d4__vo-VvahG",
        "colab_type": "code",
        "colab": {
          "base_uri": "https://localhost:8080/",
          "height": 151
        },
        "outputId": "b0d39bd8-6407-4e3e-f7dc-6f0e7f38edb1"
      },
      "source": [
        "for N in [1,2,10,100,200,300,400,500]:\n",
        "    print(\"With {:3d} steps, the price is {:.2f}\".format(N,binomial_call(100, 100, 1, 0, math.log(1.2), N)))"
      ],
      "execution_count": 3,
      "outputs": [
        {
          "output_type": "stream",
          "text": [
            "With   1 steps, the price is 9.09\n",
            "With   2 steps, the price is 6.44\n",
            "With  10 steps, the price is 7.08\n",
            "With 100 steps, the price is 7.25\n",
            "With 200 steps, the price is 7.25\n",
            "With 300 steps, the price is 7.26\n",
            "With 400 steps, the price is 7.26\n",
            "With 500 steps, the price is 7.26\n"
          ],
          "name": "stdout"
        }
      ]
    },
    {
      "cell_type": "code",
      "metadata": {
        "id": "t1p5lrptwLeV",
        "colab_type": "code",
        "colab": {}
      },
      "source": [
        ""
      ],
      "execution_count": null,
      "outputs": []
    }
  ]
}